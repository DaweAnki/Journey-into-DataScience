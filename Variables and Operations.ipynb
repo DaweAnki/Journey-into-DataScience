{
 "cells": [
  {
   "cell_type": "markdown",
   "id": "798ab7bc",
   "metadata": {},
   "source": [
    "Variable and Operations"
   ]
  },
  {
   "cell_type": "code",
   "execution_count": 1,
   "id": "64feaca7",
   "metadata": {},
   "outputs": [
    {
     "name": "stdout",
     "output_type": "stream",
     "text": [
      "Sum= 30\n"
     ]
    }
   ],
   "source": [
    "a=10\n",
    "b=20\n",
    "z=a+b\n",
    "print(\"Sum=\",z)"
   ]
  }
 ],
 "metadata": {
  "kernelspec": {
   "display_name": "base",
   "language": "python",
   "name": "python3"
  },
  "language_info": {
   "name": "python",
   "version": "3.11.5"
  }
 },
 "nbformat": 4,
 "nbformat_minor": 5
}
