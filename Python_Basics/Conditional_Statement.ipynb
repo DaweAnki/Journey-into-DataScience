{
 "cells": [
  {
   "cell_type": "markdown",
   "id": "09841fe2",
   "metadata": {},
   "source": [
    "# Python_Basics: Conditional Statements\n",
    "- In this notebook we will cover:\n",
    "  - If Statement\n",
    "  - If-else Statement\n",
    "  - If-elif-else Ladder\n",
    "  - Nested If Statement\n",
    "  - Multiple Conditions with Logical Operators\n",
    "  - Practice Problems"
   ]
  },
  {
   "cell_type": "markdown",
   "id": "c3c025e4",
   "metadata": {},
   "source": [
    "## If Statement\n",
    "- If Statements are the conditional statements in python and these implement selection constructs (decision constructs)."
   ]
  },
  {
   "cell_type": "code",
   "execution_count": 1,
   "id": "8a919c8f",
   "metadata": {},
   "outputs": [
    {
     "name": "stdout",
     "output_type": "stream",
     "text": [
      "You are eligible to vote\n"
     ]
    }
   ],
   "source": [
    "age = 20\n",
    "if age >= 18:\n",
    "    print(\"You are eligible to vote\")"
   ]
  },
  {
   "cell_type": "markdown",
   "id": "e649b3db",
   "metadata": {},
   "source": [
    "## If-Else Statement\n",
    "- When the condition is true → execute one block of code.  \n",
    "- When false → execute another block."
   ]
  },
  {
   "cell_type": "code",
   "execution_count": 1,
   "id": "b4049945",
   "metadata": {},
   "outputs": [
    {
     "name": "stdout",
     "output_type": "stream",
     "text": [
      "56 is Even\n"
     ]
    }
   ],
   "source": [
    "num = int(input(\"Enter a number: \"))\n",
    "\n",
    "if num % 2 == 0:\n",
    "    print(num, \"is Even\")\n",
    "else:\n",
    "    print(num, \"is Odd\")"
   ]
  },
  {
   "cell_type": "markdown",
   "id": "5ca1b8e8",
   "metadata": {},
   "source": [
    "## If-Elif-Else Ladder\n",
    "- Useful when there are multiple conditions to check."
   ]
  },
  {
   "cell_type": "code",
   "execution_count": 4,
   "id": "7c605b77",
   "metadata": {},
   "outputs": [
    {
     "name": "stdout",
     "output_type": "stream",
     "text": [
      "You entered a digit.\n"
     ]
    }
   ],
   "source": [
    "ch = input(\"Enter a single character: \")\n",
    "if ch>='A' and ch<='Z':\n",
    "    print(\"You entered an Upper case character.\")\n",
    "elif ch>='a' and ch<='z':\n",
    "    print(\"You entered an Lower case character.\")\n",
    "elif ch>='0' and ch<='9':\n",
    "    print(\"You entered a digit.\")\n",
    "else:\n",
    "    print(\"You entered a Special Character.\")"
   ]
  },
  {
   "cell_type": "markdown",
   "id": "1a9c32e9",
   "metadata": {},
   "source": [
    "## Nested If Statement\n",
    "- An `if` inside another `if`. Useful for more detailed conditions."
   ]
  },
  {
   "cell_type": "code",
   "execution_count": 1,
   "id": "2923a1f0",
   "metadata": {},
   "outputs": [
    {
     "name": "stdout",
     "output_type": "stream",
     "text": [
      "54 is Positive Even\n"
     ]
    }
   ],
   "source": [
    "num = int(input(\"Enter a number: \"))\n",
    "\n",
    "if num > 0:\n",
    "    if num % 2 == 0:\n",
    "        print(num, \"is Positive Even\")\n",
    "    else:\n",
    "        print(num, \"is Positive Odd\")\n",
    "else:\n",
    "    print(num, \"is not a positive number\")"
   ]
  },
  {
   "cell_type": "markdown",
   "id": "6621732c",
   "metadata": {},
   "source": [
    "# Multiple Conditions\n",
    "- We can use `and`, `or`, `not` with if–else to combine conditions."
   ]
  },
  {
   "cell_type": "code",
   "execution_count": 1,
   "id": "429588c2",
   "metadata": {},
   "outputs": [
    {
     "name": "stdout",
     "output_type": "stream",
     "text": [
      "You are an adult\n"
     ]
    }
   ],
   "source": [
    "age = int(input(\"Enter your age: \"))\n",
    "\n",
    "if age >= 18 and age <= 60:\n",
    "    print(\"You are an adult\")\n",
    "else:\n",
    "    print(\"You are either a minor or senior citizen\")"
   ]
  },
  {
   "cell_type": "markdown",
   "id": "3d06f0e3",
   "metadata": {},
   "source": [
    "## Practice problem\n",
    "- Here are the some practice problem by using user input for more understanding"
   ]
  },
  {
   "cell_type": "code",
   "execution_count": 1,
   "id": "e051a534",
   "metadata": {},
   "outputs": [
    {
     "name": "stdout",
     "output_type": "stream",
     "text": [
      "56 is larger\n"
     ]
    }
   ],
   "source": [
    "# Problem to calculate and print roots of a quadratic equation: ax2 + bx + c=0 (a !=0)\n",
    "\n",
    "a = int(input(\"Enter first number: \"))\n",
    "b = int(input(\"Enter second number: \"))\n",
    "\n",
    "if a > b:\n",
    "    print(a, \"is larger\")\n",
    "else:\n",
    "    print(b, \"is larger\")"
   ]
  },
  {
   "cell_type": "code",
   "execution_count": 2,
   "id": "966d84ac",
   "metadata": {},
   "outputs": [
    {
     "name": "stdout",
     "output_type": "stream",
     "text": [
      "7 is the largest\n"
     ]
    }
   ],
   "source": [
    "# Problem 2: Largest of three numbers\n",
    "\n",
    "x = int(input(\"Enter first number: \"))\n",
    "y = int(input(\"Enter second number: \"))\n",
    "z = int(input(\"Enter third number: \"))\n",
    "if x >= y and x >= z:\n",
    "    print(x, \"is the largest\")\n",
    "elif y >= x and y >= z:\n",
    "    print(y, \"is the largest\")\n",
    "else:\n",
    "    print(z, \"is the largest\")"
   ]
  },
  {
   "cell_type": "code",
   "execution_count": 3,
   "id": "eac61556",
   "metadata": {},
   "outputs": [
    {
     "name": "stdout",
     "output_type": "stream",
     "text": [
      "2025 is NOT a Leap Year\n"
     ]
    }
   ],
   "source": [
    "# Problem 3: Leap Year Check\n",
    "\n",
    "year = int(input(\"Enter a year: \"))\n",
    "if (year % 400 == 0) or (year % 4 == 0 and year % 100 != 0):\n",
    "    print(year, \"is a Leap Year\")\n",
    "else:\n",
    "    print(year, \"is NOT a Leap Year\")"
   ]
  }
 ],
 "metadata": {
  "kernelspec": {
   "display_name": "base",
   "language": "python",
   "name": "python3"
  },
  "language_info": {
   "codemirror_mode": {
    "name": "ipython",
    "version": 3
   },
   "file_extension": ".py",
   "mimetype": "text/x-python",
   "name": "python",
   "nbconvert_exporter": "python",
   "pygments_lexer": "ipython3",
   "version": "3.11.5"
  }
 },
 "nbformat": 4,
 "nbformat_minor": 5
}
