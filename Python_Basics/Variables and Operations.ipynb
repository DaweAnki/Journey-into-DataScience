{
 "cells": [
  {
   "cell_type": "markdown",
   "id": "798ab7bc",
   "metadata": {},
   "source": [
    "# Python_Basics : Variables and Operations\n",
    "\n",
    "- In this notebook we will cover all the basics of Variables and Operations in python.\n",
    "- We will see how to variables are created and used, how different types of operators works (arithmetic, relational, logical, etc.)."
   ]
  },
  {
   "cell_type": "markdown",
   "id": "386e9cbe",
   "metadata": {},
   "source": [
    "## What is variables?\n",
    "\n",
    "- Variables are like containers that store data.\n",
    "- In Python, you don’t need to declare type; it is inferred automatically.\n",
    "- Variables are also called symbolic variables because these are named labels."
   ]
  },
  {
   "cell_type": "code",
   "execution_count": 3,
   "id": "3b5e076f",
   "metadata": {},
   "outputs": [
    {
     "name": "stdout",
     "output_type": "stream",
     "text": [
      "x =  10\n",
      "y =  2.5\n",
      "name =  Belly\n"
     ]
    }
   ],
   "source": [
    "#Assigning the variables\n",
    "\n",
    "x=10\n",
    "y=2.5\n",
    "name=\"Belly\"\n",
    "print (\"x = \",x)\n",
    "print(\"y = \",y)\n",
    "print(\"name = \",name)"
   ]
  },
  {
   "cell_type": "markdown",
   "id": "d0f70fe1",
   "metadata": {},
   "source": [
    "## Operators\n",
    "### Types of Operators\n",
    "1. Arithmetic Operators: +, -, *, /, %, **, //\n",
    "2. Relational Operators: ==, !=, >, <, >=, <=\n",
    "3. Logical Operators: and, or, not\n",
    "4. Assignment Operators: =, +=, -=, etc."
   ]
  },
  {
   "cell_type": "code",
   "execution_count": 4,
   "id": "2fdfc67d",
   "metadata": {},
   "outputs": [
    {
     "name": "stdout",
     "output_type": "stream",
     "text": [
      "Addition: 19\n",
      "Subtraction: 11\n",
      "Multiplication: 60\n",
      "Division: 3.75\n",
      "Floor Division: 3\n",
      "Modulus: 3\n",
      "Power: 50625\n"
     ]
    }
   ],
   "source": [
    "# Arithmetic operators\n",
    "\n",
    "a = 15\n",
    "b = 4\n",
    "print(\"Addition:\", a + b)\n",
    "print(\"Subtraction:\", a - b)\n",
    "print(\"Multiplication:\", a * b)\n",
    "print(\"Division:\", a / b)\n",
    "print(\"Floor Division:\", a // b)\n",
    "print(\"Modulus:\", a % b)\n",
    "print(\"Power:\", a ** b)"
   ]
  },
  {
   "cell_type": "code",
   "execution_count": 5,
   "id": "f558d8ff",
   "metadata": {},
   "outputs": [
    {
     "name": "stdout",
     "output_type": "stream",
     "text": [
      "a > b: True\n",
      "a == b: False\n",
      "a != b: True\n"
     ]
    }
   ],
   "source": [
    "# Relational operators\n",
    "\n",
    "print(\"a > b:\", a > b)\n",
    "print(\"a == b:\", a == b)\n",
    "print(\"a != b:\", a != b)"
   ]
  },
  {
   "cell_type": "code",
   "execution_count": 6,
   "id": "0056654c",
   "metadata": {},
   "outputs": [
    {
     "name": "stdout",
     "output_type": "stream",
     "text": [
      "p and q: False\n",
      "p or q: True\n",
      "not p: False\n"
     ]
    }
   ],
   "source": [
    "# Logical operators\n",
    "p = True\n",
    "q = False\n",
    "print(\"p and q:\", p and q)\n",
    "print(\"p or q:\", p or q)\n",
    "print(\"not p:\", not p)"
   ]
  },
  {
   "cell_type": "markdown",
   "id": "c94ee3ac",
   "metadata": {},
   "source": [
    "## Practice problem\n",
    "Here are the some practice problem by using user input for more understanding"
   ]
  },
  {
   "cell_type": "code",
   "execution_count": 7,
   "id": "64feaca7",
   "metadata": {},
   "outputs": [
    {
     "name": "stdout",
     "output_type": "stream",
     "text": [
      "Hello Hello Python welcomes you to its beautiful world.\n"
     ]
    }
   ],
   "source": [
    "# Program to input a welcome message and print it\n",
    "message = input(\"Enter the Welcome Message : \")\n",
    "print(\"Hello\", message)\n"
   ]
  },
  {
   "cell_type": "code",
   "execution_count": 8,
   "id": "b4998a7a",
   "metadata": {},
   "outputs": [
    {
     "name": "stdout",
     "output_type": "stream",
     "text": [
      "Area of circle = 1963.4937499999999\n"
     ]
    }
   ],
   "source": [
    "# Program to calculate area of circle\n",
    "radius = float(input(\"Enter radius of the circle: \"))\n",
    "area = 3.14159 * radius * radius\n",
    "\n",
    "print(\"Area of circle =\", area)"
   ]
  },
  {
   "cell_type": "code",
   "execution_count": 9,
   "id": "af60766c",
   "metadata": {},
   "outputs": [
    {
     "name": "stdout",
     "output_type": "stream",
     "text": [
      "Simple Interest = 250.0\n"
     ]
    }
   ],
   "source": [
    "# Program to calculate Simple Interest\n",
    "p = float(input(\"Enter Principal: \"))\n",
    "r = float(input(\"Enter Rate of Interest: \"))\n",
    "t = float(input(\"Enter Time (in years): \"))\n",
    "\n",
    "si = (p * r * t) / 100\n",
    "print(\"Simple Interest =\", si)"
   ]
  },
  {
   "cell_type": "code",
   "execution_count": 10,
   "id": "12511812",
   "metadata": {},
   "outputs": [
    {
     "name": "stdout",
     "output_type": "stream",
     "text": [
      "Area of Rectangle = 15.0\n",
      "Perimeter of Rectangle = 16.0\n"
     ]
    }
   ],
   "source": [
    "# Program to calculate area and perimeter of a rectangle using user input\n",
    "\n",
    "length = float(input(\"Enter the length of the rectangle: \"))\n",
    "breadth = float(input(\"Enter the breadth of the rectangle: \"))\n",
    "\n",
    "area = length * breadth\n",
    "perimeter = 2 * (length + breadth)\n",
    "\n",
    "print(\"Area of Rectangle =\", area)\n",
    "print(\"Perimeter of Rectangle =\", perimeter)"
   ]
  }
 ],
 "metadata": {
  "kernelspec": {
   "display_name": "base",
   "language": "python",
   "name": "python3"
  },
  "language_info": {
   "codemirror_mode": {
    "name": "ipython",
    "version": 3
   },
   "file_extension": ".py",
   "mimetype": "text/x-python",
   "name": "python",
   "nbconvert_exporter": "python",
   "pygments_lexer": "ipython3",
   "version": "3.11.5"
  }
 },
 "nbformat": 4,
 "nbformat_minor": 5
}
