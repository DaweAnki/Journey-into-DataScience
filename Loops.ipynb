{
 "cells": [
  {
   "cell_type": "markdown",
   "id": "fff866dc",
   "metadata": {},
   "source": [
    "# Python_Basics: Loops\n",
    "- In this notebook, we will cover: \n",
    " - While loop\n",
    " - For loop\n",
    " - Nested Loop\n",
    " - Loop control statements (Break, Continue, Pass)"
   ]
  },
  {
   "cell_type": "markdown",
   "id": "1e224f73",
   "metadata": {},
   "source": [
    "## While Loop\n",
    "- While Loop repeats as long as condition is true.\n",
    "- Syntax:\n",
    "  - while <Logical Expression>:\n",
    "        Loop-Body"
   ]
  },
  {
   "cell_type": "code",
   "execution_count": 3,
   "id": "88e37250",
   "metadata": {},
   "outputs": [
    {
     "name": "stdout",
     "output_type": "stream",
     "text": [
      "hello 5\n",
      "hello 2\n",
      "loop over!!\n"
     ]
    }
   ],
   "source": [
    "# Program: Countdown with While Loop\n",
    "# Prints \"hello\" while counting down from 5 by 3\n",
    "a=5 \n",
    "while a > 0:\n",
    "    print(\"hello\",a)\n",
    "    a=a-3\n",
    "print(\"loop over!!\")"
   ]
  },
  {
   "cell_type": "markdown",
   "id": "f16ef212",
   "metadata": {},
   "source": [
    "## For Loop\n",
    "- A for loop is used to ***iterate*** over a sequence (list, tuple, string, range).\n",
    "- Each time, when the loop body is executed is called ***Iteration***."
   ]
  },
  {
   "cell_type": "code",
   "execution_count": 4,
   "id": "46192fe3",
   "metadata": {},
   "outputs": [
    {
     "name": "stdout",
     "output_type": "stream",
     "text": [
      "5 x 1 = 5\n",
      "5 x 2 = 10\n",
      "5 x 3 = 15\n",
      "5 x 4 = 20\n",
      "5 x 5 = 25\n",
      "5 x 6 = 30\n",
      "5 x 7 = 35\n",
      "5 x 8 = 40\n",
      "5 x 9 = 45\n",
      "5 x 10 = 50\n"
     ]
    }
   ],
   "source": [
    "# Program to print table of a number, say 5\n",
    "num=5\n",
    "for i in range(1,11):\n",
    "    print(num,\"x\", i, \"=\", num*i)"
   ]
  },
  {
   "cell_type": "code",
   "execution_count": 5,
   "id": "a1bcf138",
   "metadata": {},
   "outputs": [
    {
     "name": "stdout",
     "output_type": "stream",
     "text": [
      "apple\n",
      "banana\n",
      "cherry\n"
     ]
    }
   ],
   "source": [
    "# Iterate over a list\n",
    "fruits = [\"apple\", \"banana\", \"cherry\"]\n",
    "for fruit in fruits:\n",
    "    print(fruit)"
   ]
  },
  {
   "cell_type": "markdown",
   "id": "33e4f65b",
   "metadata": {},
   "source": [
    "## Nested Loop\n",
    "- A Loop may contain another loop in its body this form of a loop is called nested loop"
   ]
  },
  {
   "cell_type": "code",
   "execution_count": 6,
   "id": "2eb4599f",
   "metadata": {},
   "outputs": [
    {
     "name": "stdout",
     "output_type": "stream",
     "text": [
      "\n",
      "*\n",
      "**\n",
      "***\n",
      "****\n"
     ]
    }
   ],
   "source": [
    "# Program to print a right-angle triangle\n",
    "for i in range(1,6):\n",
    "    for j in range(1,i):\n",
    "        print(\"*\", end='')\n",
    "    print()"
   ]
  },
  {
   "cell_type": "markdown",
   "id": "e085452f",
   "metadata": {},
   "source": [
    "## Loop control statements\n",
    "- Break --> Exit\n",
    "- Continue --> Skip current iteration\n",
    "- Pass --> do nothing (placeholder)"
   ]
  },
  {
   "cell_type": "code",
   "execution_count": 7,
   "id": "4e23cbae",
   "metadata": {},
   "outputs": [
    {
     "name": "stdout",
     "output_type": "stream",
     "text": [
      "1\n",
      "2\n",
      "3\n",
      "4\n"
     ]
    }
   ],
   "source": [
    "# break example\n",
    "for i in range(1, 10):\n",
    "    if i == 5:\n",
    "        break\n",
    "    print(i)"
   ]
  },
  {
   "cell_type": "code",
   "execution_count": 8,
   "id": "52f14bfe",
   "metadata": {},
   "outputs": [
    {
     "name": "stdout",
     "output_type": "stream",
     "text": [
      "1\n",
      "2\n",
      "4\n",
      "5\n"
     ]
    }
   ],
   "source": [
    "# continue example\n",
    "for i in range(1, 6):\n",
    "    if i == 3:\n",
    "        continue\n",
    "    print(i)"
   ]
  },
  {
   "cell_type": "code",
   "execution_count": 9,
   "id": "9c8fb891",
   "metadata": {},
   "outputs": [
    {
     "name": "stdout",
     "output_type": "stream",
     "text": [
      "1\n",
      "2\n",
      "3\n"
     ]
    }
   ],
   "source": [
    "# pass example\n",
    "for i in range(1, 4):\n",
    "    if i == 2:\n",
    "        pass  # Placeholder\n",
    "    print(i)"
   ]
  },
  {
   "cell_type": "code",
   "execution_count": 10,
   "id": "526f99c7",
   "metadata": {},
   "outputs": [
    {
     "name": "stdout",
     "output_type": "stream",
     "text": [
      "The loop with' break' produces output as:\n",
      "The loop with continue' produces output as:\n"
     ]
    }
   ],
   "source": [
    "# Program to illustrate the difference between break and continue\n",
    "print (\"The loop with' break' produces output as:\")\n",
    "for i in range (1,11):\n",
    "    if 1%30:\n",
    "        break\n",
    "    else:\n",
    "        print(1)\n",
    "        \n",
    "print(\"The loop with continue' produces output as:\")\n",
    "for i in range (1,11):\n",
    "    if 1%30:\n",
    "        continue\n",
    "    else:\n",
    "        print(i) "
   ]
  },
  {
   "cell_type": "markdown",
   "id": "466bef55",
   "metadata": {},
   "source": [
    "## Practice problem\n",
    "Here are the some practice problem by using user input for more understanding"
   ]
  },
  {
   "cell_type": "code",
   "execution_count": 11,
   "id": "e6ff4119",
   "metadata": {},
   "outputs": [
    {
     "name": "stdout",
     "output_type": "stream",
     "text": [
      "1\n",
      "2\n",
      "3\n",
      "4\n",
      "5\n"
     ]
    }
   ],
   "source": [
    "# Print first N natural numbers\n",
    "n = int(input(\"Enter a number: \"))\n",
    "for i in range(1, n+1):\n",
    "    print(i)"
   ]
  },
  {
   "cell_type": "code",
   "execution_count": 12,
   "id": "eec81e01",
   "metadata": {},
   "outputs": [
    {
     "name": "stdout",
     "output_type": "stream",
     "text": [
      "1\n",
      "2\n",
      "3\n",
      "4\n"
     ]
    }
   ],
   "source": [
    "# Print numbers from 1 to N\n",
    "n = int(input(\"Enter a number: \"))\n",
    "i = 1\n",
    "while i <= n:\n",
    "    print(i)\n",
    "    i += 1"
   ]
  },
  {
   "cell_type": "code",
   "execution_count": 13,
   "id": "fe4446e7",
   "metadata": {},
   "outputs": [
    {
     "name": "stdout",
     "output_type": "stream",
     "text": [
      "Factorial = 5040\n"
     ]
    }
   ],
   "source": [
    "# Calculate factorial\n",
    "n = int(input(\"Enter a number: \"))\n",
    "fact = 1\n",
    "for i in range(1, n+1):\n",
    "    fact *= i\n",
    "print(\"Factorial =\", fact)"
   ]
  },
  {
   "cell_type": "code",
   "execution_count": 14,
   "id": "34aa372e",
   "metadata": {},
   "outputs": [
    {
     "name": "stdout",
     "output_type": "stream",
     "text": [
      "Factorial = 720\n"
     ]
    }
   ],
   "source": [
    "# Calculate factorial\n",
    "n = int(input(\"Enter a number: \"))\n",
    "fact = 1\n",
    "i = 1\n",
    "while i <= n:\n",
    "    fact *= i\n",
    "    i += 1\n",
    "print(\"Factorial =\", fact)"
   ]
  }
 ],
 "metadata": {
  "kernelspec": {
   "display_name": "base",
   "language": "python",
   "name": "python3"
  },
  "language_info": {
   "codemirror_mode": {
    "name": "ipython",
    "version": 3
   },
   "file_extension": ".py",
   "mimetype": "text/x-python",
   "name": "python",
   "nbconvert_exporter": "python",
   "pygments_lexer": "ipython3",
   "version": "3.11.5"
  }
 },
 "nbformat": 4,
 "nbformat_minor": 5
}
